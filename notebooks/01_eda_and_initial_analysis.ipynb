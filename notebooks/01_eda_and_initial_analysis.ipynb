{
 "cells": [
  {
   "cell_type": "code",
   "execution_count": null,
   "id": "f2096605",
   "metadata": {
    "vscode": {
     "languageId": "plaintext"
    }
   },
   "outputs": [],
   "source": [
    "import numpy as np # linear algebra\n",
    "import pandas as pd # data processing, CSV file I/O (e.g. pd.read_csv)\n",
    "import os\n",
    "\n",
    "# Input data files are available in the read-only \"../input/\" directory\n",
    "# This part is specific to Kaggle's environment for listing input files.\n",
    "# It's fine to keep it in your EDA notebook for context.\n",
    "for dirname, _, filenames in os.walk('/kaggle/input'):\n",
    "    for filename in filenames:\n",
    "        print(os.path.join(dirname, filename))\n",
    "\n",
    "\n",
    "# Load data\n",
    "from src.data_loader import load_kaggle_data\n",
    "train, test = load_kaggle_data('/kaggle/input/home-data-for-ml-course/')\n",
    "\n",
    "# --- Start of EDA Section ---\n",
    "# Display first few rows\n",
    "display(train.head())\n",
    "display(test.head())\n",
    "\n",
    "# Set display options for full view\n",
    "pd.set_option('display.max_columns', None)\n",
    "pd.set_option('display.max_rows', None)\n",
    "pd.set_option('display.width', 1000)\n",
    "\n",
    "# Display descriptive statistics\n",
    "display(train.describe())\n",
    "print(\"Train missing values:\")\n",
    "print(train.isnull().sum().sort_values(ascending=False))\n",
    "\n",
    "display(test.describe())\n",
    "print(\"Test missing values:\")\n",
    "print(test.isnull().sum().sort_values(ascending=False))\n",
    "\n",
    "# Initial feature type identification for EDA purposes.\n",
    "# The actual logic for separating target and identifying columns for pipeline\n",
    "# execution will be in src/preprocess.py.\n",
    "# from src.preprocess import separate_target, identify_column_types\n",
    "# y_eda = train['SalePrice']\n",
    "# train_eda = train.drop('SalePrice', axis=1, inplace=False) # Use inplace=False for EDA\n",
    "# numeric_cols_eda, categorical_cols_eda = identify_column_types(train_eda)\n",
    "# print(f\"Numeric columns (EDA): {numeric_cols_eda.tolist()}\")\n",
    "# print(f\"Categorical columns (EDA): {categorical_cols_eda.tolist()}\")"
   ]
  }
 ],
 "metadata": {
  "language_info": {
   "name": "python"
  }
 },
 "nbformat": 4,
 "nbformat_minor": 5
}
